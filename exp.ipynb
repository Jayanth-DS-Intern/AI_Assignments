{
 "cells": [
  {
   "cell_type": "code",
   "execution_count": 4,
   "metadata": {},
   "outputs": [],
   "source": [
    "import os\n",
    "import firebase_admin\n",
    "from firebase_admin import credentials\n",
    "from firebase_admin import firestore, storage\n",
    "import uuid"
   ]
  },
  {
   "cell_type": "code",
   "execution_count": 2,
   "metadata": {},
   "outputs": [],
   "source": [
    "data_cred={\"type\": \"service_account\",\n",
    "\t\t\"project_id\": os.getenv(\"project_id\"),\n",
    "\t\t\"private_key_id\": os.getenv(\"private_key_id\"),\n",
    "\t\t\"private_key\": os.getenv(\"private_key\").replace('\\\\n', '\\n'),\n",
    "\t\t\"client_email\": os.getenv(\"client_email\"),\n",
    "\t\t\"client_id\": os.getenv(\"client_id\"),\n",
    "\t\t\"auth_uri\": \"https://accounts.google.com/o/oauth2/auth\",\n",
    "\t\t\"token_uri\": \"https://oauth2.googleapis.com/token\",\n",
    "\t\t\"auth_provider_x509_cert_url\": \"https://www.googleapis.com/oauth2/v1/certs\",\n",
    "\t\t\"client_x509_cert_url\": os.getenv(\"client_x509_cert_url\"),\n",
    "\t\"universe_domain\":\"googleapis.com\"}"
   ]
  },
  {
   "cell_type": "code",
   "execution_count": 5,
   "metadata": {},
   "outputs": [],
   "source": [
    "def initialize_firebase():\n",
    "    # Check if any Firebase app exists\n",
    "    if not firebase_admin._apps:\n",
    "        # Initialize the default app\n",
    "        cred = credentials.Certificate(data_cred)\n",
    "        firebase_admin.initialize_app(cred)\n",
    "    \n",
    "    # Now, we can create a new app with a unique name if needed\n",
    "    app = firebase_admin.initialize_app(credentials.Certificate(data_cred), name=str(uuid.uuid4()))\n",
    "    \n",
    "    return firestore.client(app)\n",
    "\n",
    " "
   ]
  },
  {
   "cell_type": "code",
   "execution_count": 6,
   "metadata": {},
   "outputs": [],
   "source": [
    "# Use the function to get a Firestore client\n",
    "db = initialize_firebase()"
   ]
  },
  {
   "cell_type": "code",
   "execution_count": 7,
   "metadata": {},
   "outputs": [
    {
     "data": {
      "text/plain": [
       "<google.cloud.firestore_v1.client.Client at 0x1d493315ba0>"
      ]
     },
     "execution_count": 7,
     "metadata": {},
     "output_type": "execute_result"
    }
   ],
   "source": [
    "db"
   ]
  },
  {
   "cell_type": "code",
   "execution_count": 10,
   "metadata": {},
   "outputs": [
    {
     "name": "stdout",
     "output_type": "stream",
     "text": [
      "['QT2PdKq4MRP0PjQy47j4', 'foPFvZG2D5T0P9XSXupz']\n"
     ]
    }
   ],
   "source": [
    "diagrambased_docs = []\n",
    "\n",
    "# Get all documents from the collection\n",
    "docs = db.collection(\"question-library\").stream()\n",
    "\n",
    "# Filter the documents in your application\n",
    "for doc in docs:\n",
    "    metadata = doc.get('metadata')\n",
    "    if metadata and 'tags' in metadata:\n",
    "        tags = metadata['tags']\n",
    "        if len(tags) > 4 and tags[4] == 'diagram-based-question':\n",
    "            diagrambased_docs.append(doc.id)\n",
    "\n",
    "print(diagrambased_docs)"
   ]
  },
  {
   "cell_type": "code",
   "execution_count": 17,
   "metadata": {},
   "outputs": [
    {
     "name": "stdout",
     "output_type": "stream",
     "text": [
      "Updated document 5rlcf59o8pEKvXadZfUE\n",
      "Updated document Z91f38AmmYZmim5mSuZ1\n",
      "Updated document nRwNq8hvQRVrTMzR8oYK\n",
      "Updated document xfEKuSy3yfJv2Og2brhs\n",
      "Updated document xrUBJ5Ij6hVCyNkkHHb9\n",
      "Update process completed\n"
     ]
    }
   ],
   "source": [
    "docs = db.collection(\"question-library\").stream()\n",
    "\n",
    "# Filter and update the documents\n",
    "for doc in docs:\n",
    "    metadata = doc.get('metadata')\n",
    "    if metadata and 'tags' in metadata:\n",
    "        tags = metadata['tags']\n",
    "        if len(tags) > 4 and tags[4] == 'activity-questions' and tags[3]=='MCQ':\n",
    "            # Update the 'type' field\n",
    "            doc_ref = db.collection(\"question-library\").document(doc.id)\n",
    "            doc_ref.update({\"type\": \"multi-choice\"})\n",
    "            print(f\"Updated document {doc.id}\")\n",
    "\n",
    "print(\"Update process completed\")"
   ]
  },
  {
   "cell_type": "code",
   "execution_count": null,
   "metadata": {},
   "outputs": [],
   "source": [
    "subject_option_ids = [doc.id for doc in db.collection(\"question-library\").where(\"metadata.tags[4]\", \"==\", \"diagram-based-question\").stream()]"
   ]
  }
 ],
 "metadata": {
  "kernelspec": {
   "display_name": "Python 3",
   "language": "python",
   "name": "python3"
  },
  "language_info": {
   "codemirror_mode": {
    "name": "ipython",
    "version": 3
   },
   "file_extension": ".py",
   "mimetype": "text/x-python",
   "name": "python",
   "nbconvert_exporter": "python",
   "pygments_lexer": "ipython3",
   "version": "3.10.14"
  }
 },
 "nbformat": 4,
 "nbformat_minor": 2
}
